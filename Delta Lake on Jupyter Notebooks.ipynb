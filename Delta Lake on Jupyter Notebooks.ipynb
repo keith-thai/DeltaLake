{
 "cells": [
  {
   "cell_type": "markdown",
   "metadata": {},
   "source": [
    "# Delta Lake on Jupyter Notebooks"
   ]
  },
  {
   "cell_type": "markdown",
   "metadata": {},
   "source": [
    "## Dislclaimer\n",
    "### Following instructions was tested on Mac OX 10.14.2\n",
    "\n",
    "## This block of instructions must be executed on terminal\n",
    "\n",
    "1. Download Spark using following link:\n",
    "https://www.apache.org/dyn/closer.lua/spark/spark-2.4.2/spark-2.4.2-bin-hadoop2.7.tgz\n",
    "\n",
    "2. Save unzipped Spark distribution on home directory\n",
    "You can go to your home directory by typing following in terminal\n",
    "\n",
    "~~~~\n",
    "cd ~\n",
    "~~~~\n",
    "\n",
    "3.  Update your bash profile \n",
    "While your working directory is ~ (i.e. your home directory). Type following in command line\n",
    "\n",
    "~~~~\n",
    "nano .bash_profile\n",
    "~~~~\n",
    "\n",
    "4. Nano editor will open in the edit mode and then type following\n",
    "\n",
    "~~~~\n",
    "export SPARK_PATH=~/spark-2.4.2-bin-hadoop2.7\n",
    "export PYSPARK_DRIVER_PYTHON=\"jupyter\"\n",
    "export PYSPARK_DRIVER_PYTHON_OPTS=\"notebook\"\n",
    "export PACKAGES=\"io.delta:delta-core_2.12:0.1.0\"\n",
    "export PYSPARK_SUBMIT_ARGS=\"--packages ${PACKAGES} pyspark-shell\"\n",
    "export PYSPARK_PYTHON=python3\n",
    "alias snotebook='$SPARK_PATH/bin/pyspark --packages io.delta:delta-core_2.12:0.1.0 --master local[2]'\n",
    "~~~~\n",
    "\n",
    "5. Type Control+(Shift) X and then \"Y\" to Save\n",
    "6. Type following command to source your newly created bash profile\n",
    "\n",
    "~~~~\n",
    "source .bash_profile\n",
    "~~~~\n",
    "\n",
    "7. Type snotebook to start Jupyter notebook\n",
    "\n",
    "~~~~\n",
    "snotebook\n",
    "~~~~\n"
   ]
  },
  {
   "cell_type": "markdown",
   "metadata": {},
   "source": [
    "## Following code can be use to test Delta Lake implementation on Jupyter Notebook"
   ]
  },
  {
   "cell_type": "code",
   "execution_count": 2,
   "metadata": {},
   "outputs": [],
   "source": [
    "from pyspark.sql import SparkSession\n",
    "spark = SparkSession.builder.master(\"local[*]\").getOrCreate()"
   ]
  },
  {
   "cell_type": "markdown",
   "metadata": {},
   "source": [
    "### Create Table"
   ]
  },
  {
   "cell_type": "code",
   "execution_count": null,
   "metadata": {},
   "outputs": [],
   "source": [
    "data = spark.range(0,5)\n",
    "data.write.format(\"delta\").save(\"/Users/hjanjua/tmp\")"
   ]
  },
  {
   "cell_type": "markdown",
   "metadata": {},
   "source": [
    "### Update Table"
   ]
  },
  {
   "cell_type": "code",
   "execution_count": 4,
   "metadata": {},
   "outputs": [],
   "source": [
    "data = spark.range(5,10)\n",
    "data.write.format(\"delta\").mode(\"overwrite\").save(\"/Users/hjanjua/tmp\")"
   ]
  },
  {
   "cell_type": "markdown",
   "metadata": {},
   "source": [
    "### Read and Display Data"
   ]
  },
  {
   "cell_type": "code",
   "execution_count": 5,
   "metadata": {},
   "outputs": [
    {
     "name": "stdout",
     "output_type": "stream",
     "text": [
      "+---+\n",
      "| id|\n",
      "+---+\n",
      "|  7|\n",
      "|  8|\n",
      "|  9|\n",
      "|  5|\n",
      "|  6|\n",
      "+---+\n",
      "\n"
     ]
    }
   ],
   "source": [
    "df = spark.read.format(\"delta\").load(\"/Users/hjanjua/tmp\")\n",
    "df.show()"
   ]
  },
  {
   "cell_type": "markdown",
   "metadata": {},
   "source": [
    "### Version / Time Capsule Read"
   ]
  },
  {
   "cell_type": "code",
   "execution_count": 6,
   "metadata": {},
   "outputs": [
    {
     "name": "stdout",
     "output_type": "stream",
     "text": [
      "+---+\n",
      "| id|\n",
      "+---+\n",
      "|  3|\n",
      "|  4|\n",
      "|  1|\n",
      "|  2|\n",
      "|  0|\n",
      "+---+\n",
      "\n"
     ]
    }
   ],
   "source": [
    "df = spark.read.format(\"delta\").option(\"versionAsOf\", 0).load(\"/Users/hjanjua/temp\")\n",
    "df.show()"
   ]
  },
  {
   "cell_type": "markdown",
   "metadata": {},
   "source": [
    "### Append "
   ]
  },
  {
   "cell_type": "code",
   "execution_count": 7,
   "metadata": {},
   "outputs": [
    {
     "name": "stdout",
     "output_type": "stream",
     "text": [
      "+---+\n",
      "| id|\n",
      "+---+\n",
      "| 12|\n",
      "| 13|\n",
      "| 14|\n",
      "| 10|\n",
      "| 11|\n",
      "|  3|\n",
      "|  4|\n",
      "|  1|\n",
      "|  2|\n",
      "|  0|\n",
      "+---+\n",
      "\n"
     ]
    }
   ],
   "source": [
    "data = spark.range(10,15)\n",
    "data.write.format(\"delta\").mode(\"append\").save(\"/Users/hjanjua/temp\")\n",
    "df = spark.read.format(\"delta\").load(\"/Users/hjanjua/temp\")\n",
    "df.show()"
   ]
  },
  {
   "cell_type": "markdown",
   "metadata": {},
   "source": [
    "### Query"
   ]
  },
  {
   "cell_type": "code",
   "execution_count": 8,
   "metadata": {},
   "outputs": [
    {
     "name": "stdout",
     "output_type": "stream",
     "text": [
      "+---+\n",
      "| id|\n",
      "+---+\n",
      "| 10|\n",
      "|  3|\n",
      "|  4|\n",
      "|  1|\n",
      "|  2|\n",
      "|  0|\n",
      "+---+\n",
      "\n"
     ]
    }
   ],
   "source": [
    "df = spark.read.format(\"delta\").load(\"/Users/hjanjua/temp\").where(\"id <= 10\")\n",
    "df.show()"
   ]
  },
  {
   "cell_type": "code",
   "execution_count": null,
   "metadata": {},
   "outputs": [],
   "source": []
  }
 ],
 "metadata": {
  "kernelspec": {
   "display_name": "Python 3",
   "language": "python",
   "name": "python3"
  },
  "language_info": {
   "codemirror_mode": {
    "name": "ipython",
    "version": 3
   },
   "file_extension": ".py",
   "mimetype": "text/x-python",
   "name": "python",
   "nbconvert_exporter": "python",
   "pygments_lexer": "ipython3",
   "version": "3.6.5"
  }
 },
 "nbformat": 4,
 "nbformat_minor": 2
}
